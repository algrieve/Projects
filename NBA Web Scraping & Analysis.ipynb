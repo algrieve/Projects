{
 "cells": [
  {
   "cell_type": "code",
   "execution_count": 2,
   "metadata": {
    "id": "Yt-DUPjHMW3B"
   },
   "outputs": [],
   "source": [
    "# imports\n",
    "#!pip install selenium\n",
    "#!pip install webdriver_manager \n",
    "\n",
    "from bs4 import BeautifulSoup # For HTML parsing\n",
    "import requests # Website connections\n",
    "from time import sleep # To prevent overwhelming the server between connections\n",
    "import pandas as pd # For converting results to a dataframe and bar chart plots\n",
    "from selenium.webdriver.common.keys import Keys\n",
    "from selenium import webdriver\n",
    "from selenium.webdriver.chrome.options import Options\n",
    "from selenium.webdriver.chrome.service import Service\n",
    "from webdriver_manager.chrome import ChromeDriverManager\n",
    "import time\n",
    "\n",
    "from matplotlib import pyplot as plt\n",
    "%matplotlib inline\n",
    "\n",
    "options = Options()\n",
    "#driver = webdriver.Chrome(service=Service(ChromeDriverManager().install()), options=options) #this works for Daniel but not for Alex or Colin\n",
    "#driver = webdriver.Chrome('./chromedriver') # used by Colin/Alex \n"
   ]
  },
  {
   "cell_type": "markdown",
   "metadata": {},
   "source": [
    "## Pulling tables for each year from the website"
   ]
  },
  {
   "cell_type": "code",
   "execution_count": 3,
   "metadata": {
    "id": "mscmD-GplrTU"
   },
   "outputs": [],
   "source": [
    "years = list(range(2002,2023))"
   ]
  },
  {
   "cell_type": "code",
   "execution_count": 4,
   "metadata": {
    "id": "kgK841InnyWg"
   },
   "outputs": [],
   "source": [
    "player_stats_url = \"https://www.basketball-reference.com/leagues/NBA_{}_per_game.html\""
   ]
  },
  {
   "cell_type": "code",
   "execution_count": 5,
   "metadata": {
    "colab": {
     "base_uri": "https://localhost:8080/",
     "height": 217
    },
    "id": "2XI-jpjfoA3y",
    "outputId": "faf5d293-4535-4aca-9e10-d1688f261ad1"
   },
   "outputs": [],
   "source": [
    "# loop is getting the webpage for each year of player stats and saving them \n",
    "# to a folder called we created (create the folder first before running this cell) and saved locally called, \"player\".\n",
    "# This cell scrapes HTML data from website but NOT completely because of the Javascript on that web page. However, for Colin\n",
    "# this code scraped the whole web page.\n",
    "for year in years:\n",
    "    \n",
    "    url = player_stats_url.format(year)\n",
    "    \n",
    "    data = requests.get(url)\n",
    "    \n",
    "    with open(\"player/{}.html\".format(year), \"w+\", encoding=\"utf-8\") as f:\n",
    "        f.write(data.text)\n",
    "        # may not need encoding=\"utf-8\" but for Colin, the cell won't run without it"
   ]
  },
  {
   "cell_type": "markdown",
   "metadata": {},
   "source": [
    "## Getting dataframe of each season's table"
   ]
  },
  {
   "cell_type": "code",
   "execution_count": 6,
   "metadata": {
    "id": "ew6id90Nwkwg"
   },
   "outputs": [],
   "source": [
    "# creating a list of dataframes that is made up of each year's table of stats\n",
    "\n",
    "dfs = []\n",
    "for year in years:\n",
    "    with open(\"player/{}.html\".format(year)) as f:\n",
    "        page = f.read()\n",
    "    \n",
    "    soup = BeautifulSoup(page, 'html.parser') #pass in html parser for page string \n",
    "    \n",
    "    player_table = soup.find_all(id=\"per_game_stats\")[0] # isolating per game stats tables \n",
    "    player_df = pd.read_html(str(player_table))[0] # need to pass as string.  produces list of df's\n",
    "    player_df[\"Year\"] = year #creating a column for year. \n",
    "    \n",
    "    dfs.append(player_df)\n",
    "\n",
    "    "
   ]
  },
  {
   "cell_type": "markdown",
   "metadata": {},
   "source": [
    "## Creating one dataframe with all of the years from 2002-2022"
   ]
  },
  {
   "cell_type": "code",
   "execution_count": 7,
   "metadata": {
    "id": "qw2CuoUZw5K0"
   },
   "outputs": [],
   "source": [
    "players = pd.concat(dfs)"
   ]
  },
  {
   "cell_type": "code",
   "execution_count": 8,
   "metadata": {
    "id": "Cx1H98lZyk8W"
   },
   "outputs": [
    {
     "data": {
      "text/html": [
       "<div>\n",
       "<style scoped>\n",
       "    .dataframe tbody tr th:only-of-type {\n",
       "        vertical-align: middle;\n",
       "    }\n",
       "\n",
       "    .dataframe tbody tr th {\n",
       "        vertical-align: top;\n",
       "    }\n",
       "\n",
       "    .dataframe thead th {\n",
       "        text-align: right;\n",
       "    }\n",
       "</style>\n",
       "<table border=\"1\" class=\"dataframe\">\n",
       "  <thead>\n",
       "    <tr style=\"text-align: right;\">\n",
       "      <th></th>\n",
       "      <th>Rk</th>\n",
       "      <th>Player</th>\n",
       "      <th>Pos</th>\n",
       "      <th>Age</th>\n",
       "      <th>Tm</th>\n",
       "      <th>G</th>\n",
       "      <th>GS</th>\n",
       "      <th>MP</th>\n",
       "      <th>FG</th>\n",
       "      <th>FGA</th>\n",
       "      <th>...</th>\n",
       "      <th>ORB</th>\n",
       "      <th>DRB</th>\n",
       "      <th>TRB</th>\n",
       "      <th>AST</th>\n",
       "      <th>STL</th>\n",
       "      <th>BLK</th>\n",
       "      <th>TOV</th>\n",
       "      <th>PF</th>\n",
       "      <th>PTS</th>\n",
       "      <th>Year</th>\n",
       "    </tr>\n",
       "  </thead>\n",
       "  <tbody>\n",
       "    <tr>\n",
       "      <th>0</th>\n",
       "      <td>1</td>\n",
       "      <td>Tariq Abdul-Wahad</td>\n",
       "      <td>SG</td>\n",
       "      <td>27</td>\n",
       "      <td>TOT</td>\n",
       "      <td>24</td>\n",
       "      <td>12</td>\n",
       "      <td>18.4</td>\n",
       "      <td>2.3</td>\n",
       "      <td>6.1</td>\n",
       "      <td>...</td>\n",
       "      <td>1.7</td>\n",
       "      <td>1.8</td>\n",
       "      <td>3.5</td>\n",
       "      <td>1.0</td>\n",
       "      <td>0.8</td>\n",
       "      <td>0.4</td>\n",
       "      <td>1.1</td>\n",
       "      <td>2.3</td>\n",
       "      <td>5.6</td>\n",
       "      <td>2002</td>\n",
       "    </tr>\n",
       "    <tr>\n",
       "      <th>1</th>\n",
       "      <td>1</td>\n",
       "      <td>Tariq Abdul-Wahad</td>\n",
       "      <td>SG</td>\n",
       "      <td>27</td>\n",
       "      <td>DEN</td>\n",
       "      <td>20</td>\n",
       "      <td>12</td>\n",
       "      <td>20.9</td>\n",
       "      <td>2.8</td>\n",
       "      <td>7.3</td>\n",
       "      <td>...</td>\n",
       "      <td>2.0</td>\n",
       "      <td>2.0</td>\n",
       "      <td>3.9</td>\n",
       "      <td>1.1</td>\n",
       "      <td>0.9</td>\n",
       "      <td>0.5</td>\n",
       "      <td>1.2</td>\n",
       "      <td>2.6</td>\n",
       "      <td>6.8</td>\n",
       "      <td>2002</td>\n",
       "    </tr>\n",
       "    <tr>\n",
       "      <th>2</th>\n",
       "      <td>1</td>\n",
       "      <td>Tariq Abdul-Wahad</td>\n",
       "      <td>SG</td>\n",
       "      <td>27</td>\n",
       "      <td>DAL</td>\n",
       "      <td>4</td>\n",
       "      <td>0</td>\n",
       "      <td>6.0</td>\n",
       "      <td>0.0</td>\n",
       "      <td>0.5</td>\n",
       "      <td>...</td>\n",
       "      <td>0.5</td>\n",
       "      <td>1.0</td>\n",
       "      <td>1.5</td>\n",
       "      <td>0.5</td>\n",
       "      <td>0.5</td>\n",
       "      <td>0.3</td>\n",
       "      <td>0.8</td>\n",
       "      <td>1.3</td>\n",
       "      <td>0.0</td>\n",
       "      <td>2002</td>\n",
       "    </tr>\n",
       "    <tr>\n",
       "      <th>3</th>\n",
       "      <td>2</td>\n",
       "      <td>Shareef Abdur-Rahim</td>\n",
       "      <td>PF</td>\n",
       "      <td>25</td>\n",
       "      <td>ATL</td>\n",
       "      <td>77</td>\n",
       "      <td>77</td>\n",
       "      <td>38.7</td>\n",
       "      <td>7.8</td>\n",
       "      <td>16.8</td>\n",
       "      <td>...</td>\n",
       "      <td>2.6</td>\n",
       "      <td>6.5</td>\n",
       "      <td>9.0</td>\n",
       "      <td>3.1</td>\n",
       "      <td>1.3</td>\n",
       "      <td>1.1</td>\n",
       "      <td>3.2</td>\n",
       "      <td>2.8</td>\n",
       "      <td>21.2</td>\n",
       "      <td>2002</td>\n",
       "    </tr>\n",
       "    <tr>\n",
       "      <th>4</th>\n",
       "      <td>3</td>\n",
       "      <td>Courtney Alexander</td>\n",
       "      <td>SG</td>\n",
       "      <td>24</td>\n",
       "      <td>WAS</td>\n",
       "      <td>56</td>\n",
       "      <td>28</td>\n",
       "      <td>23.7</td>\n",
       "      <td>4.0</td>\n",
       "      <td>8.5</td>\n",
       "      <td>...</td>\n",
       "      <td>0.8</td>\n",
       "      <td>1.9</td>\n",
       "      <td>2.6</td>\n",
       "      <td>1.5</td>\n",
       "      <td>0.6</td>\n",
       "      <td>0.1</td>\n",
       "      <td>1.1</td>\n",
       "      <td>2.0</td>\n",
       "      <td>9.8</td>\n",
       "      <td>2002</td>\n",
       "    </tr>\n",
       "    <tr>\n",
       "      <th>5</th>\n",
       "      <td>4</td>\n",
       "      <td>Victor Alexander</td>\n",
       "      <td>C</td>\n",
       "      <td>32</td>\n",
       "      <td>DET</td>\n",
       "      <td>15</td>\n",
       "      <td>0</td>\n",
       "      <td>6.5</td>\n",
       "      <td>1.2</td>\n",
       "      <td>3.4</td>\n",
       "      <td>...</td>\n",
       "      <td>0.5</td>\n",
       "      <td>1.5</td>\n",
       "      <td>1.9</td>\n",
       "      <td>0.4</td>\n",
       "      <td>0.0</td>\n",
       "      <td>0.1</td>\n",
       "      <td>0.3</td>\n",
       "      <td>0.4</td>\n",
       "      <td>2.7</td>\n",
       "      <td>2002</td>\n",
       "    </tr>\n",
       "    <tr>\n",
       "      <th>6</th>\n",
       "      <td>5</td>\n",
       "      <td>Malik Allen</td>\n",
       "      <td>PF</td>\n",
       "      <td>23</td>\n",
       "      <td>MIA</td>\n",
       "      <td>12</td>\n",
       "      <td>2</td>\n",
       "      <td>13.4</td>\n",
       "      <td>1.8</td>\n",
       "      <td>4.3</td>\n",
       "      <td>...</td>\n",
       "      <td>1.3</td>\n",
       "      <td>1.9</td>\n",
       "      <td>3.2</td>\n",
       "      <td>0.4</td>\n",
       "      <td>0.3</td>\n",
       "      <td>0.7</td>\n",
       "      <td>0.2</td>\n",
       "      <td>1.3</td>\n",
       "      <td>4.3</td>\n",
       "      <td>2002</td>\n",
       "    </tr>\n",
       "    <tr>\n",
       "      <th>7</th>\n",
       "      <td>6</td>\n",
       "      <td>Ray Allen*</td>\n",
       "      <td>SG</td>\n",
       "      <td>26</td>\n",
       "      <td>MIL</td>\n",
       "      <td>69</td>\n",
       "      <td>67</td>\n",
       "      <td>36.6</td>\n",
       "      <td>7.7</td>\n",
       "      <td>16.6</td>\n",
       "      <td>...</td>\n",
       "      <td>1.2</td>\n",
       "      <td>3.3</td>\n",
       "      <td>4.5</td>\n",
       "      <td>3.9</td>\n",
       "      <td>1.3</td>\n",
       "      <td>0.3</td>\n",
       "      <td>2.3</td>\n",
       "      <td>2.3</td>\n",
       "      <td>21.8</td>\n",
       "      <td>2002</td>\n",
       "    </tr>\n",
       "    <tr>\n",
       "      <th>8</th>\n",
       "      <td>7</td>\n",
       "      <td>Rafer Alston</td>\n",
       "      <td>PG</td>\n",
       "      <td>25</td>\n",
       "      <td>MIL</td>\n",
       "      <td>50</td>\n",
       "      <td>7</td>\n",
       "      <td>12.0</td>\n",
       "      <td>1.3</td>\n",
       "      <td>3.8</td>\n",
       "      <td>...</td>\n",
       "      <td>0.2</td>\n",
       "      <td>1.2</td>\n",
       "      <td>1.4</td>\n",
       "      <td>2.9</td>\n",
       "      <td>0.6</td>\n",
       "      <td>0.0</td>\n",
       "      <td>0.8</td>\n",
       "      <td>0.8</td>\n",
       "      <td>3.5</td>\n",
       "      <td>2002</td>\n",
       "    </tr>\n",
       "    <tr>\n",
       "      <th>9</th>\n",
       "      <td>8</td>\n",
       "      <td>John Amaechi</td>\n",
       "      <td>PF</td>\n",
       "      <td>31</td>\n",
       "      <td>UTA</td>\n",
       "      <td>54</td>\n",
       "      <td>0</td>\n",
       "      <td>10.9</td>\n",
       "      <td>1.0</td>\n",
       "      <td>3.1</td>\n",
       "      <td>...</td>\n",
       "      <td>1.0</td>\n",
       "      <td>1.1</td>\n",
       "      <td>2.0</td>\n",
       "      <td>0.5</td>\n",
       "      <td>0.1</td>\n",
       "      <td>0.2</td>\n",
       "      <td>1.0</td>\n",
       "      <td>1.2</td>\n",
       "      <td>3.2</td>\n",
       "      <td>2002</td>\n",
       "    </tr>\n",
       "  </tbody>\n",
       "</table>\n",
       "<p>10 rows × 31 columns</p>\n",
       "</div>"
      ],
      "text/plain": [
       "  Rk               Player Pos Age   Tm   G  GS    MP   FG   FGA  ...  ORB  \\\n",
       "0  1    Tariq Abdul-Wahad  SG  27  TOT  24  12  18.4  2.3   6.1  ...  1.7   \n",
       "1  1    Tariq Abdul-Wahad  SG  27  DEN  20  12  20.9  2.8   7.3  ...  2.0   \n",
       "2  1    Tariq Abdul-Wahad  SG  27  DAL   4   0   6.0  0.0   0.5  ...  0.5   \n",
       "3  2  Shareef Abdur-Rahim  PF  25  ATL  77  77  38.7  7.8  16.8  ...  2.6   \n",
       "4  3   Courtney Alexander  SG  24  WAS  56  28  23.7  4.0   8.5  ...  0.8   \n",
       "5  4     Victor Alexander   C  32  DET  15   0   6.5  1.2   3.4  ...  0.5   \n",
       "6  5          Malik Allen  PF  23  MIA  12   2  13.4  1.8   4.3  ...  1.3   \n",
       "7  6           Ray Allen*  SG  26  MIL  69  67  36.6  7.7  16.6  ...  1.2   \n",
       "8  7         Rafer Alston  PG  25  MIL  50   7  12.0  1.3   3.8  ...  0.2   \n",
       "9  8         John Amaechi  PF  31  UTA  54   0  10.9  1.0   3.1  ...  1.0   \n",
       "\n",
       "   DRB  TRB  AST  STL  BLK  TOV   PF   PTS  Year  \n",
       "0  1.8  3.5  1.0  0.8  0.4  1.1  2.3   5.6  2002  \n",
       "1  2.0  3.9  1.1  0.9  0.5  1.2  2.6   6.8  2002  \n",
       "2  1.0  1.5  0.5  0.5  0.3  0.8  1.3   0.0  2002  \n",
       "3  6.5  9.0  3.1  1.3  1.1  3.2  2.8  21.2  2002  \n",
       "4  1.9  2.6  1.5  0.6  0.1  1.1  2.0   9.8  2002  \n",
       "5  1.5  1.9  0.4  0.0  0.1  0.3  0.4   2.7  2002  \n",
       "6  1.9  3.2  0.4  0.3  0.7  0.2  1.3   4.3  2002  \n",
       "7  3.3  4.5  3.9  1.3  0.3  2.3  2.3  21.8  2002  \n",
       "8  1.2  1.4  2.9  0.6  0.0  0.8  0.8   3.5  2002  \n",
       "9  1.1  2.0  0.5  0.1  0.2  1.0  1.2   3.2  2002  \n",
       "\n",
       "[10 rows x 31 columns]"
      ]
     },
     "execution_count": 8,
     "metadata": {},
     "output_type": "execute_result"
    }
   ],
   "source": [
    "players.head()"
   ]
  },
  {
   "cell_type": "markdown",
   "metadata": {},
   "source": [
    "## Creating a csv file from the dataframe"
   ]
  },
  {
   "cell_type": "code",
   "execution_count": 9,
   "metadata": {
    "id": "sevW1oDd7U4h"
   },
   "outputs": [],
   "source": [
    "players.to_csv(\"players.csv\", index = False)"
   ]
  },
  {
   "cell_type": "code",
   "execution_count": 3,
   "metadata": {
    "id": "okACoiVRBXiz"
   },
   "outputs": [],
   "source": [
    "players = pd.read_csv(\"players.csv\")"
   ]
  },
  {
   "cell_type": "code",
   "execution_count": 4,
   "metadata": {
    "id": "_5MPwHFeBfM_"
   },
   "outputs": [
    {
     "data": {
      "text/html": [
       "<div>\n",
       "<style scoped>\n",
       "    .dataframe tbody tr th:only-of-type {\n",
       "        vertical-align: middle;\n",
       "    }\n",
       "\n",
       "    .dataframe tbody tr th {\n",
       "        vertical-align: top;\n",
       "    }\n",
       "\n",
       "    .dataframe thead th {\n",
       "        text-align: right;\n",
       "    }\n",
       "</style>\n",
       "<table border=\"1\" class=\"dataframe\">\n",
       "  <thead>\n",
       "    <tr style=\"text-align: right;\">\n",
       "      <th></th>\n",
       "      <th>Unnamed: 0</th>\n",
       "      <th>Rk</th>\n",
       "      <th>Player</th>\n",
       "      <th>Pos</th>\n",
       "      <th>Age</th>\n",
       "      <th>Tm</th>\n",
       "      <th>G</th>\n",
       "      <th>GS</th>\n",
       "      <th>MP</th>\n",
       "      <th>FG</th>\n",
       "      <th>...</th>\n",
       "      <th>ORB</th>\n",
       "      <th>DRB</th>\n",
       "      <th>TRB</th>\n",
       "      <th>AST</th>\n",
       "      <th>STL</th>\n",
       "      <th>BLK</th>\n",
       "      <th>TOV</th>\n",
       "      <th>PF</th>\n",
       "      <th>PTS</th>\n",
       "      <th>Year</th>\n",
       "    </tr>\n",
       "  </thead>\n",
       "  <tbody>\n",
       "    <tr>\n",
       "      <th>0</th>\n",
       "      <td>0</td>\n",
       "      <td>1</td>\n",
       "      <td>Tariq Abdul-Wahad</td>\n",
       "      <td>SG</td>\n",
       "      <td>27</td>\n",
       "      <td>TOT</td>\n",
       "      <td>24</td>\n",
       "      <td>12</td>\n",
       "      <td>18.4</td>\n",
       "      <td>2.3</td>\n",
       "      <td>...</td>\n",
       "      <td>1.7</td>\n",
       "      <td>1.8</td>\n",
       "      <td>3.5</td>\n",
       "      <td>1.0</td>\n",
       "      <td>0.8</td>\n",
       "      <td>0.4</td>\n",
       "      <td>1.1</td>\n",
       "      <td>2.3</td>\n",
       "      <td>5.6</td>\n",
       "      <td>2002</td>\n",
       "    </tr>\n",
       "    <tr>\n",
       "      <th>1</th>\n",
       "      <td>1</td>\n",
       "      <td>1</td>\n",
       "      <td>Tariq Abdul-Wahad</td>\n",
       "      <td>SG</td>\n",
       "      <td>27</td>\n",
       "      <td>DEN</td>\n",
       "      <td>20</td>\n",
       "      <td>12</td>\n",
       "      <td>20.9</td>\n",
       "      <td>2.8</td>\n",
       "      <td>...</td>\n",
       "      <td>2.0</td>\n",
       "      <td>2.0</td>\n",
       "      <td>3.9</td>\n",
       "      <td>1.1</td>\n",
       "      <td>0.9</td>\n",
       "      <td>0.5</td>\n",
       "      <td>1.2</td>\n",
       "      <td>2.6</td>\n",
       "      <td>6.8</td>\n",
       "      <td>2002</td>\n",
       "    </tr>\n",
       "    <tr>\n",
       "      <th>2</th>\n",
       "      <td>2</td>\n",
       "      <td>1</td>\n",
       "      <td>Tariq Abdul-Wahad</td>\n",
       "      <td>SG</td>\n",
       "      <td>27</td>\n",
       "      <td>DAL</td>\n",
       "      <td>4</td>\n",
       "      <td>0</td>\n",
       "      <td>6.0</td>\n",
       "      <td>0.0</td>\n",
       "      <td>...</td>\n",
       "      <td>0.5</td>\n",
       "      <td>1.0</td>\n",
       "      <td>1.5</td>\n",
       "      <td>0.5</td>\n",
       "      <td>0.5</td>\n",
       "      <td>0.3</td>\n",
       "      <td>0.8</td>\n",
       "      <td>1.3</td>\n",
       "      <td>0.0</td>\n",
       "      <td>2002</td>\n",
       "    </tr>\n",
       "    <tr>\n",
       "      <th>3</th>\n",
       "      <td>3</td>\n",
       "      <td>2</td>\n",
       "      <td>Shareef Abdur-Rahim</td>\n",
       "      <td>PF</td>\n",
       "      <td>25</td>\n",
       "      <td>ATL</td>\n",
       "      <td>77</td>\n",
       "      <td>77</td>\n",
       "      <td>38.7</td>\n",
       "      <td>7.8</td>\n",
       "      <td>...</td>\n",
       "      <td>2.6</td>\n",
       "      <td>6.5</td>\n",
       "      <td>9.0</td>\n",
       "      <td>3.1</td>\n",
       "      <td>1.3</td>\n",
       "      <td>1.1</td>\n",
       "      <td>3.2</td>\n",
       "      <td>2.8</td>\n",
       "      <td>21.2</td>\n",
       "      <td>2002</td>\n",
       "    </tr>\n",
       "    <tr>\n",
       "      <th>4</th>\n",
       "      <td>4</td>\n",
       "      <td>3</td>\n",
       "      <td>Courtney Alexander</td>\n",
       "      <td>SG</td>\n",
       "      <td>24</td>\n",
       "      <td>WAS</td>\n",
       "      <td>56</td>\n",
       "      <td>28</td>\n",
       "      <td>23.7</td>\n",
       "      <td>4.0</td>\n",
       "      <td>...</td>\n",
       "      <td>0.8</td>\n",
       "      <td>1.9</td>\n",
       "      <td>2.6</td>\n",
       "      <td>1.5</td>\n",
       "      <td>0.6</td>\n",
       "      <td>0.1</td>\n",
       "      <td>1.1</td>\n",
       "      <td>2.0</td>\n",
       "      <td>9.8</td>\n",
       "      <td>2002</td>\n",
       "    </tr>\n",
       "  </tbody>\n",
       "</table>\n",
       "<p>5 rows × 32 columns</p>\n",
       "</div>"
      ],
      "text/plain": [
       "   Unnamed: 0  Rk               Player Pos  Age   Tm   G  GS    MP   FG  ...  \\\n",
       "0           0   1    Tariq Abdul-Wahad  SG   27  TOT  24  12  18.4  2.3  ...   \n",
       "1           1   1    Tariq Abdul-Wahad  SG   27  DEN  20  12  20.9  2.8  ...   \n",
       "2           2   1    Tariq Abdul-Wahad  SG   27  DAL   4   0   6.0  0.0  ...   \n",
       "3           3   2  Shareef Abdur-Rahim  PF   25  ATL  77  77  38.7  7.8  ...   \n",
       "4           4   3   Courtney Alexander  SG   24  WAS  56  28  23.7  4.0  ...   \n",
       "\n",
       "   ORB  DRB  TRB  AST  STL  BLK  TOV   PF   PTS  Year  \n",
       "0  1.7  1.8  3.5  1.0  0.8  0.4  1.1  2.3   5.6  2002  \n",
       "1  2.0  2.0  3.9  1.1  0.9  0.5  1.2  2.6   6.8  2002  \n",
       "2  0.5  1.0  1.5  0.5  0.5  0.3  0.8  1.3   0.0  2002  \n",
       "3  2.6  6.5  9.0  3.1  1.3  1.1  3.2  2.8  21.2  2002  \n",
       "4  0.8  1.9  2.6  1.5  0.6  0.1  1.1  2.0   9.8  2002  \n",
       "\n",
       "[5 rows x 32 columns]"
      ]
     },
     "execution_count": 4,
     "metadata": {},
     "output_type": "execute_result"
    }
   ],
   "source": [
    "players.head()"
   ]
  },
  {
   "cell_type": "markdown",
   "metadata": {},
   "source": [
    "## Using selenium to grab full pages of stats from the web browser"
   ]
  },
  {
   "cell_type": "code",
   "execution_count": 12,
   "metadata": {},
   "outputs": [],
   "source": [
    "for year in years: # iterates through all the years 2002 to 2022\n",
    "    url = player_stats_url.format(year)\n",
    "    \n",
    "    driver.get(url) # tell the webdriver to get the webpage\n",
    "    driver.execute_script(\"window.scrollTo(1,10000)\") \n",
    "    # \"window.scrollTo(1,10000)\" is a Javascript command tells the Selenium browser to scroll down and render the\n",
    "    # rest of the table so we can scrape the whole web page\n",
    "    time.sleep(2) # Adds 2 second delay in the execution of this cell\n",
    "    \n",
    "    html = driver.page_source # tells the driver to grab the HTML data\n",
    "    \n",
    "    with open(\"player/{}.html\".format(year), \"w+\", encoding=\"utf-8\") as f: # \"w+\" means opening the HTML in write mode.\n",
    "        # may not need encoding=\"utf-8\" but for Colin, the cell won't run without it\n",
    "        f.write(html) # write to an HTML file"
   ]
  },
  {
   "cell_type": "markdown",
   "metadata": {},
   "source": [
    "## Again creating list of data frames from selenium pages and concatinating them"
   ]
  },
  {
   "cell_type": "code",
   "execution_count": 13,
   "metadata": {},
   "outputs": [],
   "source": [
    "dfs = [] # initialise a list of dataframes\n",
    "\n",
    "for year in years: # iterates through all the years 2002 to 2022\n",
    "    with open(\"player/{}.html\".format(year)) as f:\n",
    "        page = f.read() # opens HTML file in read mode\n",
    "    \n",
    "    soup = BeautifulSoup(page, 'html.parser') # passing in page string into the html parser\n",
    "    for header in soup.find_all('tr', class_='thead'): # finding all elements 'tr' with class 'thead' \n",
    "        header.decompose() # removes unnecessary reapeated header \n",
    "\n",
    "    \n",
    "    player_table = soup.find(id=\"per_game_stats\") # Searching for id: per_game_stats\n",
    "    player = pd.read_html(str(player_table))[0] # Reading the HTML table into Pandas\n",
    "    player[\"Year\"] = year # assigns \"Year\" column to each row\n",
    "    \n",
    "    dfs.append(player) # appending player data to dataframe list 'dfs' "
   ]
  },
  {
   "cell_type": "code",
   "execution_count": 14,
   "metadata": {},
   "outputs": [],
   "source": [
    "players = pd.concat(dfs) # concatenating list of df's together to make one dataframe"
   ]
  },
  {
   "cell_type": "code",
   "execution_count": 16,
   "metadata": {},
   "outputs": [],
   "source": [
    "# writing to a csv, run first cell if Pandas not imported \n",
    "\n",
    "players.to_csv(\"players.csv\")\n",
    "# saves csv file in the same folder as the notebook \n",
    "# If we need to go back and run the notebook again we don't need to run all cells again"
   ]
  },
  {
   "cell_type": "markdown",
   "metadata": {},
   "source": [
    "## Using Pandas to read the csv file"
   ]
  },
  {
   "cell_type": "code",
   "execution_count": 5,
   "metadata": {},
   "outputs": [],
   "source": [
    "player_data = pd.read_csv(\"players.csv\")"
   ]
  },
  {
   "cell_type": "code",
   "execution_count": 6,
   "metadata": {},
   "outputs": [
    {
     "data": {
      "text/plain": [
       "Unnamed: 0      int64\n",
       "Rk              int64\n",
       "Player         object\n",
       "Pos            object\n",
       "Age             int64\n",
       "Tm             object\n",
       "G               int64\n",
       "GS              int64\n",
       "MP            float64\n",
       "FG            float64\n",
       "FGA           float64\n",
       "FG%           float64\n",
       "3P            float64\n",
       "3PA           float64\n",
       "3P%           float64\n",
       "2P            float64\n",
       "2PA           float64\n",
       "2P%           float64\n",
       "eFG%          float64\n",
       "FT            float64\n",
       "FTA           float64\n",
       "FT%           float64\n",
       "ORB           float64\n",
       "DRB           float64\n",
       "TRB           float64\n",
       "AST           float64\n",
       "STL           float64\n",
       "BLK           float64\n",
       "TOV           float64\n",
       "PF            float64\n",
       "PTS           float64\n",
       "Year            int64\n",
       "dtype: object"
      ]
     },
     "execution_count": 6,
     "metadata": {},
     "output_type": "execute_result"
    }
   ],
   "source": [
    "player_data.dtypes"
   ]
  },
  {
   "cell_type": "code",
   "execution_count": 7,
   "metadata": {},
   "outputs": [
    {
     "data": {
      "text/html": [
       "<div>\n",
       "<style scoped>\n",
       "    .dataframe tbody tr th:only-of-type {\n",
       "        vertical-align: middle;\n",
       "    }\n",
       "\n",
       "    .dataframe tbody tr th {\n",
       "        vertical-align: top;\n",
       "    }\n",
       "\n",
       "    .dataframe thead th {\n",
       "        text-align: right;\n",
       "    }\n",
       "</style>\n",
       "<table border=\"1\" class=\"dataframe\">\n",
       "  <thead>\n",
       "    <tr style=\"text-align: right;\">\n",
       "      <th></th>\n",
       "      <th>Unnamed: 0</th>\n",
       "      <th>Rk</th>\n",
       "      <th>Player</th>\n",
       "      <th>Pos</th>\n",
       "      <th>Age</th>\n",
       "      <th>Tm</th>\n",
       "      <th>G</th>\n",
       "      <th>GS</th>\n",
       "      <th>MP</th>\n",
       "      <th>FG</th>\n",
       "      <th>...</th>\n",
       "      <th>ORB</th>\n",
       "      <th>DRB</th>\n",
       "      <th>TRB</th>\n",
       "      <th>AST</th>\n",
       "      <th>STL</th>\n",
       "      <th>BLK</th>\n",
       "      <th>TOV</th>\n",
       "      <th>PF</th>\n",
       "      <th>PTS</th>\n",
       "      <th>Year</th>\n",
       "    </tr>\n",
       "  </thead>\n",
       "  <tbody>\n",
       "    <tr>\n",
       "      <th>0</th>\n",
       "      <td>0</td>\n",
       "      <td>1</td>\n",
       "      <td>Tariq Abdul-Wahad</td>\n",
       "      <td>SG</td>\n",
       "      <td>27</td>\n",
       "      <td>TOT</td>\n",
       "      <td>24</td>\n",
       "      <td>12</td>\n",
       "      <td>18.4</td>\n",
       "      <td>2.3</td>\n",
       "      <td>...</td>\n",
       "      <td>1.7</td>\n",
       "      <td>1.8</td>\n",
       "      <td>3.5</td>\n",
       "      <td>1.0</td>\n",
       "      <td>0.8</td>\n",
       "      <td>0.4</td>\n",
       "      <td>1.1</td>\n",
       "      <td>2.3</td>\n",
       "      <td>5.6</td>\n",
       "      <td>2002</td>\n",
       "    </tr>\n",
       "    <tr>\n",
       "      <th>1</th>\n",
       "      <td>1</td>\n",
       "      <td>1</td>\n",
       "      <td>Tariq Abdul-Wahad</td>\n",
       "      <td>SG</td>\n",
       "      <td>27</td>\n",
       "      <td>DEN</td>\n",
       "      <td>20</td>\n",
       "      <td>12</td>\n",
       "      <td>20.9</td>\n",
       "      <td>2.8</td>\n",
       "      <td>...</td>\n",
       "      <td>2.0</td>\n",
       "      <td>2.0</td>\n",
       "      <td>3.9</td>\n",
       "      <td>1.1</td>\n",
       "      <td>0.9</td>\n",
       "      <td>0.5</td>\n",
       "      <td>1.2</td>\n",
       "      <td>2.6</td>\n",
       "      <td>6.8</td>\n",
       "      <td>2002</td>\n",
       "    </tr>\n",
       "    <tr>\n",
       "      <th>2</th>\n",
       "      <td>2</td>\n",
       "      <td>1</td>\n",
       "      <td>Tariq Abdul-Wahad</td>\n",
       "      <td>SG</td>\n",
       "      <td>27</td>\n",
       "      <td>DAL</td>\n",
       "      <td>4</td>\n",
       "      <td>0</td>\n",
       "      <td>6.0</td>\n",
       "      <td>0.0</td>\n",
       "      <td>...</td>\n",
       "      <td>0.5</td>\n",
       "      <td>1.0</td>\n",
       "      <td>1.5</td>\n",
       "      <td>0.5</td>\n",
       "      <td>0.5</td>\n",
       "      <td>0.3</td>\n",
       "      <td>0.8</td>\n",
       "      <td>1.3</td>\n",
       "      <td>0.0</td>\n",
       "      <td>2002</td>\n",
       "    </tr>\n",
       "    <tr>\n",
       "      <th>3</th>\n",
       "      <td>3</td>\n",
       "      <td>2</td>\n",
       "      <td>Shareef Abdur-Rahim</td>\n",
       "      <td>PF</td>\n",
       "      <td>25</td>\n",
       "      <td>ATL</td>\n",
       "      <td>77</td>\n",
       "      <td>77</td>\n",
       "      <td>38.7</td>\n",
       "      <td>7.8</td>\n",
       "      <td>...</td>\n",
       "      <td>2.6</td>\n",
       "      <td>6.5</td>\n",
       "      <td>9.0</td>\n",
       "      <td>3.1</td>\n",
       "      <td>1.3</td>\n",
       "      <td>1.1</td>\n",
       "      <td>3.2</td>\n",
       "      <td>2.8</td>\n",
       "      <td>21.2</td>\n",
       "      <td>2002</td>\n",
       "    </tr>\n",
       "    <tr>\n",
       "      <th>4</th>\n",
       "      <td>4</td>\n",
       "      <td>3</td>\n",
       "      <td>Courtney Alexander</td>\n",
       "      <td>SG</td>\n",
       "      <td>24</td>\n",
       "      <td>WAS</td>\n",
       "      <td>56</td>\n",
       "      <td>28</td>\n",
       "      <td>23.7</td>\n",
       "      <td>4.0</td>\n",
       "      <td>...</td>\n",
       "      <td>0.8</td>\n",
       "      <td>1.9</td>\n",
       "      <td>2.6</td>\n",
       "      <td>1.5</td>\n",
       "      <td>0.6</td>\n",
       "      <td>0.1</td>\n",
       "      <td>1.1</td>\n",
       "      <td>2.0</td>\n",
       "      <td>9.8</td>\n",
       "      <td>2002</td>\n",
       "    </tr>\n",
       "  </tbody>\n",
       "</table>\n",
       "<p>5 rows × 32 columns</p>\n",
       "</div>"
      ],
      "text/plain": [
       "   Unnamed: 0  Rk               Player Pos  Age   Tm   G  GS    MP   FG  ...  \\\n",
       "0           0   1    Tariq Abdul-Wahad  SG   27  TOT  24  12  18.4  2.3  ...   \n",
       "1           1   1    Tariq Abdul-Wahad  SG   27  DEN  20  12  20.9  2.8  ...   \n",
       "2           2   1    Tariq Abdul-Wahad  SG   27  DAL   4   0   6.0  0.0  ...   \n",
       "3           3   2  Shareef Abdur-Rahim  PF   25  ATL  77  77  38.7  7.8  ...   \n",
       "4           4   3   Courtney Alexander  SG   24  WAS  56  28  23.7  4.0  ...   \n",
       "\n",
       "   ORB  DRB  TRB  AST  STL  BLK  TOV   PF   PTS  Year  \n",
       "0  1.7  1.8  3.5  1.0  0.8  0.4  1.1  2.3   5.6  2002  \n",
       "1  2.0  2.0  3.9  1.1  0.9  0.5  1.2  2.6   6.8  2002  \n",
       "2  0.5  1.0  1.5  0.5  0.5  0.3  0.8  1.3   0.0  2002  \n",
       "3  2.6  6.5  9.0  3.1  1.3  1.1  3.2  2.8  21.2  2002  \n",
       "4  0.8  1.9  2.6  1.5  0.6  0.1  1.1  2.0   9.8  2002  \n",
       "\n",
       "[5 rows x 32 columns]"
      ]
     },
     "execution_count": 7,
     "metadata": {},
     "output_type": "execute_result"
    }
   ],
   "source": [
    "player_data.head()"
   ]
  },
  {
   "cell_type": "markdown",
   "metadata": {},
   "source": [
    "## Combining duplicate records of players "
   ]
  },
  {
   "cell_type": "code",
   "execution_count": 8,
   "metadata": {},
   "outputs": [],
   "source": [
    "def single_team(df):\n",
    "    if df.shape[0]==1: # if there's only one row of stats for a player, then just return that row of data\n",
    "        return df\n",
    "    else:\n",
    "        row = df[df[\"Tm\"]==\"TOT\"] # \"TOT\" is NOT a team name. It represents the Total stats for the player that year.\n",
    "        row[\"Tm\"] = df.iloc[-1,:][\"Tm\"] # Use only the last team the player played for in the year. The team in the last row.\n",
    "        return row\n",
    "\n",
    "player_data = player_data.groupby([\"Player\", \"Year\"]).apply(single_team) # group by player and year"
   ]
  },
  {
   "cell_type": "code",
   "execution_count": 9,
   "metadata": {},
   "outputs": [
    {
     "data": {
      "text/html": [
       "<div>\n",
       "<style scoped>\n",
       "    .dataframe tbody tr th:only-of-type {\n",
       "        vertical-align: middle;\n",
       "    }\n",
       "\n",
       "    .dataframe tbody tr th {\n",
       "        vertical-align: top;\n",
       "    }\n",
       "\n",
       "    .dataframe thead th {\n",
       "        text-align: right;\n",
       "    }\n",
       "</style>\n",
       "<table border=\"1\" class=\"dataframe\">\n",
       "  <thead>\n",
       "    <tr style=\"text-align: right;\">\n",
       "      <th></th>\n",
       "      <th></th>\n",
       "      <th></th>\n",
       "      <th>Unnamed: 0</th>\n",
       "      <th>Rk</th>\n",
       "      <th>Player</th>\n",
       "      <th>Pos</th>\n",
       "      <th>Age</th>\n",
       "      <th>Tm</th>\n",
       "      <th>G</th>\n",
       "      <th>GS</th>\n",
       "      <th>MP</th>\n",
       "      <th>FG</th>\n",
       "      <th>...</th>\n",
       "      <th>ORB</th>\n",
       "      <th>DRB</th>\n",
       "      <th>TRB</th>\n",
       "      <th>AST</th>\n",
       "      <th>STL</th>\n",
       "      <th>BLK</th>\n",
       "      <th>TOV</th>\n",
       "      <th>PF</th>\n",
       "      <th>PTS</th>\n",
       "      <th>Year</th>\n",
       "    </tr>\n",
       "    <tr>\n",
       "      <th>Player</th>\n",
       "      <th>Year</th>\n",
       "      <th></th>\n",
       "      <th></th>\n",
       "      <th></th>\n",
       "      <th></th>\n",
       "      <th></th>\n",
       "      <th></th>\n",
       "      <th></th>\n",
       "      <th></th>\n",
       "      <th></th>\n",
       "      <th></th>\n",
       "      <th></th>\n",
       "      <th></th>\n",
       "      <th></th>\n",
       "      <th></th>\n",
       "      <th></th>\n",
       "      <th></th>\n",
       "      <th></th>\n",
       "      <th></th>\n",
       "      <th></th>\n",
       "      <th></th>\n",
       "      <th></th>\n",
       "      <th></th>\n",
       "    </tr>\n",
       "  </thead>\n",
       "  <tbody>\n",
       "    <tr>\n",
       "      <th rowspan=\"2\" valign=\"top\">A.J. Guyton</th>\n",
       "      <th>2002</th>\n",
       "      <th>179</th>\n",
       "      <td>179</td>\n",
       "      <td>160</td>\n",
       "      <td>A.J. Guyton</td>\n",
       "      <td>PG</td>\n",
       "      <td>23</td>\n",
       "      <td>CHI</td>\n",
       "      <td>45</td>\n",
       "      <td>6</td>\n",
       "      <td>13.5</td>\n",
       "      <td>2.0</td>\n",
       "      <td>...</td>\n",
       "      <td>0.3</td>\n",
       "      <td>0.7</td>\n",
       "      <td>1.0</td>\n",
       "      <td>1.8</td>\n",
       "      <td>0.2</td>\n",
       "      <td>0.2</td>\n",
       "      <td>0.8</td>\n",
       "      <td>0.5</td>\n",
       "      <td>5.4</td>\n",
       "      <td>2002</td>\n",
       "    </tr>\n",
       "    <tr>\n",
       "      <th>2003</th>\n",
       "      <th>666</th>\n",
       "      <td>166</td>\n",
       "      <td>146</td>\n",
       "      <td>A.J. Guyton</td>\n",
       "      <td>PG</td>\n",
       "      <td>24</td>\n",
       "      <td>GSW</td>\n",
       "      <td>2</td>\n",
       "      <td>0</td>\n",
       "      <td>4.5</td>\n",
       "      <td>0.0</td>\n",
       "      <td>...</td>\n",
       "      <td>0.0</td>\n",
       "      <td>0.0</td>\n",
       "      <td>0.0</td>\n",
       "      <td>1.0</td>\n",
       "      <td>0.5</td>\n",
       "      <td>0.0</td>\n",
       "      <td>0.5</td>\n",
       "      <td>0.0</td>\n",
       "      <td>0.0</td>\n",
       "      <td>2003</td>\n",
       "    </tr>\n",
       "    <tr>\n",
       "      <th>A.J. Hammons</th>\n",
       "      <th>2017</th>\n",
       "      <th>8785</th>\n",
       "      <td>209</td>\n",
       "      <td>171</td>\n",
       "      <td>A.J. Hammons</td>\n",
       "      <td>C</td>\n",
       "      <td>24</td>\n",
       "      <td>DAL</td>\n",
       "      <td>22</td>\n",
       "      <td>0</td>\n",
       "      <td>7.4</td>\n",
       "      <td>0.8</td>\n",
       "      <td>...</td>\n",
       "      <td>0.4</td>\n",
       "      <td>1.3</td>\n",
       "      <td>1.6</td>\n",
       "      <td>0.2</td>\n",
       "      <td>0.0</td>\n",
       "      <td>0.6</td>\n",
       "      <td>0.5</td>\n",
       "      <td>1.0</td>\n",
       "      <td>2.2</td>\n",
       "      <td>2017</td>\n",
       "    </tr>\n",
       "    <tr>\n",
       "      <th rowspan=\"2\" valign=\"top\">A.J. Price</th>\n",
       "      <th>2010</th>\n",
       "      <th>4844</th>\n",
       "      <td>435</td>\n",
       "      <td>335</td>\n",
       "      <td>A.J. Price</td>\n",
       "      <td>PG</td>\n",
       "      <td>23</td>\n",
       "      <td>IND</td>\n",
       "      <td>56</td>\n",
       "      <td>2</td>\n",
       "      <td>15.4</td>\n",
       "      <td>2.6</td>\n",
       "      <td>...</td>\n",
       "      <td>0.2</td>\n",
       "      <td>1.4</td>\n",
       "      <td>1.6</td>\n",
       "      <td>1.9</td>\n",
       "      <td>0.6</td>\n",
       "      <td>0.1</td>\n",
       "      <td>1.1</td>\n",
       "      <td>0.9</td>\n",
       "      <td>7.3</td>\n",
       "      <td>2010</td>\n",
       "    </tr>\n",
       "    <tr>\n",
       "      <th>2011</th>\n",
       "      <th>5452</th>\n",
       "      <td>465</td>\n",
       "      <td>339</td>\n",
       "      <td>A.J. Price</td>\n",
       "      <td>PG</td>\n",
       "      <td>24</td>\n",
       "      <td>IND</td>\n",
       "      <td>50</td>\n",
       "      <td>0</td>\n",
       "      <td>15.9</td>\n",
       "      <td>2.3</td>\n",
       "      <td>...</td>\n",
       "      <td>0.3</td>\n",
       "      <td>1.1</td>\n",
       "      <td>1.4</td>\n",
       "      <td>2.2</td>\n",
       "      <td>0.6</td>\n",
       "      <td>0.0</td>\n",
       "      <td>1.1</td>\n",
       "      <td>1.2</td>\n",
       "      <td>6.5</td>\n",
       "      <td>2011</td>\n",
       "    </tr>\n",
       "  </tbody>\n",
       "</table>\n",
       "<p>5 rows × 32 columns</p>\n",
       "</div>"
      ],
      "text/plain": [
       "                        Unnamed: 0   Rk        Player Pos  Age   Tm   G  GS  \\\n",
       "Player       Year                                                             \n",
       "A.J. Guyton  2002 179          179  160   A.J. Guyton  PG   23  CHI  45   6   \n",
       "             2003 666          166  146   A.J. Guyton  PG   24  GSW   2   0   \n",
       "A.J. Hammons 2017 8785         209  171  A.J. Hammons   C   24  DAL  22   0   \n",
       "A.J. Price   2010 4844         435  335    A.J. Price  PG   23  IND  56   2   \n",
       "             2011 5452         465  339    A.J. Price  PG   24  IND  50   0   \n",
       "\n",
       "                          MP   FG  ...  ORB  DRB  TRB  AST  STL  BLK  TOV  \\\n",
       "Player       Year                  ...                                      \n",
       "A.J. Guyton  2002 179   13.5  2.0  ...  0.3  0.7  1.0  1.8  0.2  0.2  0.8   \n",
       "             2003 666    4.5  0.0  ...  0.0  0.0  0.0  1.0  0.5  0.0  0.5   \n",
       "A.J. Hammons 2017 8785   7.4  0.8  ...  0.4  1.3  1.6  0.2  0.0  0.6  0.5   \n",
       "A.J. Price   2010 4844  15.4  2.6  ...  0.2  1.4  1.6  1.9  0.6  0.1  1.1   \n",
       "             2011 5452  15.9  2.3  ...  0.3  1.1  1.4  2.2  0.6  0.0  1.1   \n",
       "\n",
       "                         PF  PTS  Year  \n",
       "Player       Year                       \n",
       "A.J. Guyton  2002 179   0.5  5.4  2002  \n",
       "             2003 666   0.0  0.0  2003  \n",
       "A.J. Hammons 2017 8785  1.0  2.2  2017  \n",
       "A.J. Price   2010 4844  0.9  7.3  2010  \n",
       "             2011 5452  1.2  6.5  2011  \n",
       "\n",
       "[5 rows x 32 columns]"
      ]
     },
     "execution_count": 9,
     "metadata": {},
     "output_type": "execute_result"
    }
   ],
   "source": [
    "player_data.head()"
   ]
  },
  {
   "cell_type": "code",
   "execution_count": 10,
   "metadata": {},
   "outputs": [],
   "source": [
    "player_data.index = player_data.index.droplevel() # need cell to get rid of the extra 'Player' column"
   ]
  },
  {
   "cell_type": "code",
   "execution_count": 11,
   "metadata": {},
   "outputs": [],
   "source": [
    "player_data.index = player_data.index.droplevel() # need cell to get rid of the extra 'Year' column"
   ]
  },
  {
   "cell_type": "markdown",
   "metadata": {},
   "source": [
    "## Mean of Blocks per player per season"
   ]
  },
  {
   "cell_type": "code",
   "execution_count": 12,
   "metadata": {},
   "outputs": [],
   "source": [
    "blocks = player_data.groupby(\"Year\")[\"BLK\"].mean()"
   ]
  },
  {
   "cell_type": "code",
   "execution_count": 13,
   "metadata": {},
   "outputs": [
    {
     "data": {
      "text/plain": [
       "Year\n",
       "2002    0.448182\n",
       "2003    0.433645\n",
       "2004    0.417195\n",
       "2005    0.413362\n",
       "2006    0.396725\n",
       "2007    0.390393\n",
       "2008    0.414667\n",
       "2009    0.435214\n",
       "2010    0.428281\n",
       "2011    0.422788\n",
       "2012    0.426569\n",
       "2013    0.423769\n",
       "2014    0.392917\n",
       "2015    0.387195\n",
       "2016    0.415126\n",
       "2017    0.392593\n",
       "2018    0.370185\n",
       "2019    0.391321\n",
       "2020    0.399055\n",
       "2021    0.415000\n",
       "2022    0.369587\n",
       "Name: BLK, dtype: float64"
      ]
     },
     "execution_count": 13,
     "metadata": {},
     "output_type": "execute_result"
    }
   ],
   "source": [
    "blocks"
   ]
  },
  {
   "cell_type": "code",
   "execution_count": 14,
   "metadata": {},
   "outputs": [
    {
     "data": {
      "image/png": "[encoded data removed]",
      "text/plain": [
       "<Figure size 864x360 with 1 Axes>"
      ]
     },
     "metadata": {
      "needs_background": "light"
     },
     "output_type": "display_data"
    }
   ],
   "source": [
    "blocks.plot.bar('Year', 'BLK', figsize = (12, 5), color = 'maroon', ec = 'black');\n",
    "plt.title ('Average Blocks Per Player');\n",
    "plt.ylabel(\"Blocks\");\n"
   ]
  },
  {
   "cell_type": "markdown",
   "metadata": {},
   "source": [
    "## Mean of Steals per player per season"
   ]
  },
  {
   "cell_type": "code",
   "execution_count": 15,
   "metadata": {},
   "outputs": [],
   "source": [
    "steals = player_data.groupby(\"Year\")[\"STL\"].mean()"
   ]
  },
  {
   "cell_type": "code",
   "execution_count": 16,
   "metadata": {},
   "outputs": [
    {
     "data": {
      "text/plain": [
       "Year\n",
       "2002    0.668864\n",
       "2003    0.672430\n",
       "2004    0.669231\n",
       "2005    0.646336\n",
       "2006    0.603493\n",
       "2007    0.616594\n",
       "2008    0.618667\n",
       "2009    0.630926\n",
       "2010    0.625113\n",
       "2011    0.619912\n",
       "2012    0.655649\n",
       "2013    0.643255\n",
       "2014    0.634167\n",
       "2015    0.648577\n",
       "2016    0.653361\n",
       "2017    0.625309\n",
       "2018    0.617222\n",
       "2019    0.617736\n",
       "2020    0.621928\n",
       "2021    0.617778\n",
       "2022    0.606777\n",
       "Name: STL, dtype: float64"
      ]
     },
     "execution_count": 16,
     "metadata": {},
     "output_type": "execute_result"
    }
   ],
   "source": [
    "steals"
   ]
  },
  {
   "cell_type": "code",
   "execution_count": 17,
   "metadata": {},
   "outputs": [
    {
     "data": {
      "image/png": "[encoded data removed]",
      "text/plain": [
       "<Figure size 864x360 with 1 Axes>"
      ]
     },
     "metadata": {
      "needs_background": "light"
     },
     "output_type": "display_data"
    }
   ],
   "source": [
    "steals.plot.bar('Year', 'STL', figsize = (12, 5), ec = 'black')\n",
    "plt.xlabel(\"Year\") \n",
    "plt.ylabel(\"Steals\")\n",
    "plt.title(\"AVG Steals Over Time\");"
   ]
  },
  {
   "cell_type": "markdown",
   "metadata": {},
   "source": [
    "## Mean of defensive rebounds per player per season"
   ]
  },
  {
   "cell_type": "code",
   "execution_count": 18,
   "metadata": {},
   "outputs": [
    {
     "data": {
      "text/plain": [
       "Year\n",
       "2002    2.578864\n",
       "2003    2.549533\n",
       "2004    2.546606\n",
       "2005    2.538147\n",
       "2006    2.534498\n",
       "2007    2.540830\n",
       "2008    2.610889\n",
       "2009    2.647630\n",
       "2010    2.675113\n",
       "2011    2.607965\n",
       "2012    2.601046\n",
       "2013    2.580086\n",
       "2014    2.627292\n",
       "2015    2.651423\n",
       "2016    2.754832\n",
       "2017    2.715226\n",
       "2018    2.613148\n",
       "2019    2.776038\n",
       "2020    2.796975\n",
       "2021    2.817222\n",
       "2022    2.622149\n",
       "Name: DRB, dtype: float64"
      ]
     },
     "execution_count": 18,
     "metadata": {},
     "output_type": "execute_result"
    }
   ],
   "source": [
    "def_rebounds = player_data.groupby(\"Year\")[\"DRB\"].mean()\n",
    "\n",
    "def_rebounds\n"
   ]
  },
  {
   "cell_type": "code",
   "execution_count": 19,
   "metadata": {},
   "outputs": [
    {
     "data": {
      "image/png": "[encoded data removed]",
      "text/plain": [
       "<Figure size 864x360 with 1 Axes>"
      ]
     },
     "metadata": {
      "needs_background": "light"
     },
     "output_type": "display_data"
    }
   ],
   "source": [
    "def_rebounds.plot.bar('Year', 'DRB', figsize = (12, 5), color = 'green', ec = 'black');\n",
    "plt.xlabel(\"Year\") \n",
    "plt.ylabel(\"Rebounds\")\n",
    "plt.title(\"AVG Rebounds Over Time\");\n",
    "\n"
   ]
  },
  {
   "cell_type": "markdown",
   "metadata": {},
   "source": [
    "## Correlation Analysis"
   ]
  },
  {
   "cell_type": "code",
   "execution_count": 20,
   "metadata": {},
   "outputs": [
    {
     "data": {
      "text/plain": [
       "0.18742270658855484"
      ]
     },
     "execution_count": 20,
     "metadata": {},
     "output_type": "execute_result"
    }
   ],
   "source": [
    "corr_BLK_STL = player_data['BLK'].corr(player_data['STL'])\n",
    "corr_BLK_STL"
   ]
  },
  {
   "cell_type": "code",
   "execution_count": 21,
   "metadata": {},
   "outputs": [
    {
     "data": {
      "text/plain": [
       "0.6554559706330938"
      ]
     },
     "execution_count": 21,
     "metadata": {},
     "output_type": "execute_result"
    }
   ],
   "source": [
    "corr_BLK_DRB = player_data['BLK'].corr(player_data['DRB'])\n",
    "corr_BLK_DRB"
   ]
  },
  {
   "cell_type": "code",
   "execution_count": 22,
   "metadata": {},
   "outputs": [
    {
     "data": {
      "text/plain": [
       "0.48741542007836874"
      ]
     },
     "execution_count": 22,
     "metadata": {},
     "output_type": "execute_result"
    }
   ],
   "source": [
    "corr_STL_DRB = player_data['STL'].corr(player_data['DRB'])\n",
    "corr_STL_DRB"
   ]
  },
  {
   "cell_type": "code",
   "execution_count": 23,
   "metadata": {},
   "outputs": [
    {
     "data": {
      "text/html": [
       "<div>\n",
       "<style scoped>\n",
       "    .dataframe tbody tr th:only-of-type {\n",
       "        vertical-align: middle;\n",
       "    }\n",
       "\n",
       "    .dataframe tbody tr th {\n",
       "        vertical-align: top;\n",
       "    }\n",
       "\n",
       "    .dataframe thead th {\n",
       "        text-align: right;\n",
       "    }\n",
       "</style>\n",
       "<table border=\"1\" class=\"dataframe\">\n",
       "  <thead>\n",
       "    <tr style=\"text-align: right;\">\n",
       "      <th></th>\n",
       "      <th>STL</th>\n",
       "      <th>DRB</th>\n",
       "      <th>BLK</th>\n",
       "    </tr>\n",
       "    <tr>\n",
       "      <th>Year</th>\n",
       "      <th></th>\n",
       "      <th></th>\n",
       "      <th></th>\n",
       "    </tr>\n",
       "  </thead>\n",
       "  <tbody>\n",
       "    <tr>\n",
       "      <th>2002</th>\n",
       "      <td>0.668864</td>\n",
       "      <td>2.578864</td>\n",
       "      <td>0.448182</td>\n",
       "    </tr>\n",
       "    <tr>\n",
       "      <th>2003</th>\n",
       "      <td>0.672430</td>\n",
       "      <td>2.549533</td>\n",
       "      <td>0.433645</td>\n",
       "    </tr>\n",
       "    <tr>\n",
       "      <th>2004</th>\n",
       "      <td>0.669231</td>\n",
       "      <td>2.546606</td>\n",
       "      <td>0.417195</td>\n",
       "    </tr>\n",
       "    <tr>\n",
       "      <th>2005</th>\n",
       "      <td>0.646336</td>\n",
       "      <td>2.538147</td>\n",
       "      <td>0.413362</td>\n",
       "    </tr>\n",
       "    <tr>\n",
       "      <th>2006</th>\n",
       "      <td>0.603493</td>\n",
       "      <td>2.534498</td>\n",
       "      <td>0.396725</td>\n",
       "    </tr>\n",
       "    <tr>\n",
       "      <th>2007</th>\n",
       "      <td>0.616594</td>\n",
       "      <td>2.540830</td>\n",
       "      <td>0.390393</td>\n",
       "    </tr>\n",
       "    <tr>\n",
       "      <th>2008</th>\n",
       "      <td>0.618667</td>\n",
       "      <td>2.610889</td>\n",
       "      <td>0.414667</td>\n",
       "    </tr>\n",
       "    <tr>\n",
       "      <th>2009</th>\n",
       "      <td>0.630926</td>\n",
       "      <td>2.647630</td>\n",
       "      <td>0.435214</td>\n",
       "    </tr>\n",
       "    <tr>\n",
       "      <th>2010</th>\n",
       "      <td>0.625113</td>\n",
       "      <td>2.675113</td>\n",
       "      <td>0.428281</td>\n",
       "    </tr>\n",
       "    <tr>\n",
       "      <th>2011</th>\n",
       "      <td>0.619912</td>\n",
       "      <td>2.607965</td>\n",
       "      <td>0.422788</td>\n",
       "    </tr>\n",
       "    <tr>\n",
       "      <th>2012</th>\n",
       "      <td>0.655649</td>\n",
       "      <td>2.601046</td>\n",
       "      <td>0.426569</td>\n",
       "    </tr>\n",
       "    <tr>\n",
       "      <th>2013</th>\n",
       "      <td>0.643255</td>\n",
       "      <td>2.580086</td>\n",
       "      <td>0.423769</td>\n",
       "    </tr>\n",
       "    <tr>\n",
       "      <th>2014</th>\n",
       "      <td>0.634167</td>\n",
       "      <td>2.627292</td>\n",
       "      <td>0.392917</td>\n",
       "    </tr>\n",
       "    <tr>\n",
       "      <th>2015</th>\n",
       "      <td>0.648577</td>\n",
       "      <td>2.651423</td>\n",
       "      <td>0.387195</td>\n",
       "    </tr>\n",
       "    <tr>\n",
       "      <th>2016</th>\n",
       "      <td>0.653361</td>\n",
       "      <td>2.754832</td>\n",
       "      <td>0.415126</td>\n",
       "    </tr>\n",
       "    <tr>\n",
       "      <th>2017</th>\n",
       "      <td>0.625309</td>\n",
       "      <td>2.715226</td>\n",
       "      <td>0.392593</td>\n",
       "    </tr>\n",
       "    <tr>\n",
       "      <th>2018</th>\n",
       "      <td>0.617222</td>\n",
       "      <td>2.613148</td>\n",
       "      <td>0.370185</td>\n",
       "    </tr>\n",
       "    <tr>\n",
       "      <th>2019</th>\n",
       "      <td>0.617736</td>\n",
       "      <td>2.776038</td>\n",
       "      <td>0.391321</td>\n",
       "    </tr>\n",
       "    <tr>\n",
       "      <th>2020</th>\n",
       "      <td>0.621928</td>\n",
       "      <td>2.796975</td>\n",
       "      <td>0.399055</td>\n",
       "    </tr>\n",
       "    <tr>\n",
       "      <th>2021</th>\n",
       "      <td>0.617778</td>\n",
       "      <td>2.817222</td>\n",
       "      <td>0.415000</td>\n",
       "    </tr>\n",
       "    <tr>\n",
       "      <th>2022</th>\n",
       "      <td>0.606777</td>\n",
       "      <td>2.622149</td>\n",
       "      <td>0.369587</td>\n",
       "    </tr>\n",
       "  </tbody>\n",
       "</table>\n",
       "</div>"
      ],
      "text/plain": [
       "           STL       DRB       BLK\n",
       "Year                              \n",
       "2002  0.668864  2.578864  0.448182\n",
       "2003  0.672430  2.549533  0.433645\n",
       "2004  0.669231  2.546606  0.417195\n",
       "2005  0.646336  2.538147  0.413362\n",
       "2006  0.603493  2.534498  0.396725\n",
       "2007  0.616594  2.540830  0.390393\n",
       "2008  0.618667  2.610889  0.414667\n",
       "2009  0.630926  2.647630  0.435214\n",
       "2010  0.625113  2.675113  0.428281\n",
       "2011  0.619912  2.607965  0.422788\n",
       "2012  0.655649  2.601046  0.426569\n",
       "2013  0.643255  2.580086  0.423769\n",
       "2014  0.634167  2.627292  0.392917\n",
       "2015  0.648577  2.651423  0.387195\n",
       "2016  0.653361  2.754832  0.415126\n",
       "2017  0.625309  2.715226  0.392593\n",
       "2018  0.617222  2.613148  0.370185\n",
       "2019  0.617736  2.776038  0.391321\n",
       "2020  0.621928  2.796975  0.399055\n",
       "2021  0.617778  2.817222  0.415000\n",
       "2022  0.606777  2.622149  0.369587"
      ]
     },
     "execution_count": 23,
     "metadata": {},
     "output_type": "execute_result"
    }
   ],
   "source": [
    "Steals = player_data[['STL', 'Year', 'DRB', 'BLK']] #subsetting dataframe \n",
    "Steals_Agg = Steals.groupby(['Year'])[['STL', 'DRB', 'BLK']].mean() #grouping by year and taking mean of each metric \n",
    "Steals_Agg"
   ]
  },
  {
   "cell_type": "code",
   "execution_count": 24,
   "metadata": {},
   "outputs": [
    {
     "data": {
      "text/html": [
       "<div>\n",
       "<style scoped>\n",
       "    .dataframe tbody tr th:only-of-type {\n",
       "        vertical-align: middle;\n",
       "    }\n",
       "\n",
       "    .dataframe tbody tr th {\n",
       "        vertical-align: top;\n",
       "    }\n",
       "\n",
       "    .dataframe thead th {\n",
       "        text-align: right;\n",
       "    }\n",
       "</style>\n",
       "<table border=\"1\" class=\"dataframe\">\n",
       "  <thead>\n",
       "    <tr style=\"text-align: right;\">\n",
       "      <th></th>\n",
       "      <th>STL</th>\n",
       "      <th>DRB</th>\n",
       "      <th>BLK</th>\n",
       "    </tr>\n",
       "  </thead>\n",
       "  <tbody>\n",
       "    <tr>\n",
       "      <th>STL</th>\n",
       "      <td>1.000000</td>\n",
       "      <td>-0.281370</td>\n",
       "      <td>0.595874</td>\n",
       "    </tr>\n",
       "    <tr>\n",
       "      <th>DRB</th>\n",
       "      <td>-0.281370</td>\n",
       "      <td>1.000000</td>\n",
       "      <td>-0.153055</td>\n",
       "    </tr>\n",
       "    <tr>\n",
       "      <th>BLK</th>\n",
       "      <td>0.595874</td>\n",
       "      <td>-0.153055</td>\n",
       "      <td>1.000000</td>\n",
       "    </tr>\n",
       "  </tbody>\n",
       "</table>\n",
       "</div>"
      ],
      "text/plain": [
       "          STL       DRB       BLK\n",
       "STL  1.000000 -0.281370  0.595874\n",
       "DRB -0.281370  1.000000 -0.153055\n",
       "BLK  0.595874 -0.153055  1.000000"
      ]
     },
     "execution_count": 24,
     "metadata": {},
     "output_type": "execute_result"
    }
   ],
   "source": [
    "a = Steals_Agg.corr()\n",
    "a"
   ]
  },
  {
   "cell_type": "code",
   "execution_count": 25,
   "metadata": {},
   "outputs": [
    {
     "data": {
      "text/plain": [
       "<AxesSubplot:>"
      ]
     },
     "execution_count": 25,
     "metadata": {},
     "output_type": "execute_result"
    },
    {
     "data": {
      "image/png": "[encoded data removed]",
      "text/plain": [
       "<Figure size 1080x576 with 2 Axes>"
      ]
     },
     "metadata": {},
     "output_type": "display_data"
    }
   ],
   "source": [
    "import seaborn as sns \n",
    "sns.set(rc = {'figure.figsize':(15,8)})\n",
    "sns.heatmap(a, cmap=\"YlGnBu\") #creating heatmap to viz correlation between variables of interest "
   ]
  },
  {
   "cell_type": "markdown",
   "metadata": {},
   "source": [
    "## Analysing Combined Defensive Metric Trends"
   ]
  },
  {
   "cell_type": "code",
   "execution_count": 66,
   "metadata": {},
   "outputs": [],
   "source": [
    "#resetting index and naming column Year \n",
    "Steals_Agg.reset_index(inplace=True)\n",
    "Steals_Agg.rename(columns={'index':'Year'})\n"
   ]
  },
  {
   "cell_type": "code",
   "execution_count": 88,
   "metadata": {},
   "outputs": [
    {
     "data": {
      "image/png": "[encoded data removed]",
      "text/plain": [
       "<Figure size 1080x576 with 1 Axes>"
      ]
     },
     "metadata": {},
     "output_type": "display_data"
    }
   ],
   "source": [
    "stack = Steals_Agg.plot(x = 'Year', y =['STL', 'BLK', 'DRB'], kind = 'bar', stacked = True, color = ['blue', 'red', 'green'], ec = 'black')\n",
    "stack.legend(loc = 'upper left')\n",
    "plt.title(\"Stacked AVG Defensive Metrics Over Time\");"
   ]
  }
 ],
 "metadata": {
  "colab": {
   "collapsed_sections": [],
   "name": "WCD_New_web scraping project.ipynb",
   "provenance": []
  },
  "kernelspec": {
   "display_name": "Python 3",
   "language": "python",
   "name": "python3"
  },
  "language_info": {
   "codemirror_mode": {
    "name": "ipython",
    "version": 3
   },
   "file_extension": ".py",
   "mimetype": "text/x-python",
   "name": "python",
   "nbconvert_exporter": "python",
   "pygments_lexer": "ipython3",
   "version": "3.8.12"
  },
  "vscode": {
   "interpreter": {
    "hash": "238d6325cb6192bd210675ceb1e05691a0159499a1fddd6c02d20c06f43b737d"
   }
  }
 },
 "nbformat": 4,
 "nbformat_minor": 1
}
